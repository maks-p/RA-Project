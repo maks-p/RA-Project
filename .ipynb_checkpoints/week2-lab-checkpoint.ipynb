{
 "cells": [
  {
   "cell_type": "markdown",
   "metadata": {},
   "source": [
    "# Web Scraping with Beautiful Soup: Resident Advisor"
   ]
  },
  {
   "cell_type": "markdown",
   "metadata": {},
   "source": [
    "## Task:\n",
    "\n",
    "Resident Advisor is an events listing website for electronic music.\n",
    "\n",
    "Go to www.residentadvisor.net/events.  This is the url we'll be starting with for this lab.  For question 1, just use this url.  In the next two, you'll use country and region in the format: http://www.residentadvisor.net/country/region/ i.e. us/losangeles/.  Be sure to explore the web pages in both the browser and the HTML file.  You'll need both to really understand what's going on.\n",
    "\n",
    "1. Which venues are hosting events this week?\n",
    "2. Make a function which returns the events this week given region and country (this will take two arguments)\n",
    "    - return the event name, link, and list of artists\n",
    "    - function returns list of ['event name', 'www.linkaddress.com', ['artist1','artist2','artist3']]\n",
    "3. Create a function which returns the users attending \n",
    "4. Putting data into a dataframe\n",
    "5. Comparing data across dataframes\n"
   ]
  },
  {
   "cell_type": "markdown",
   "metadata": {},
   "source": [
    "### Question 1 - Which venues are hosting events this week?"
   ]
  },
  {
   "cell_type": "code",
   "execution_count": 1,
   "metadata": {},
   "outputs": [],
   "source": [
    "#Enter starting_date and ending_date for queries\n",
    "starting_date = '2019-03-22'\n",
    "ending_date = '2019-03-29'"
   ]
  },
  {
   "cell_type": "code",
   "execution_count": 3,
   "metadata": {},
   "outputs": [],
   "source": [
    "import requests\n",
    "from bs4 import BeautifulSoup\n",
    "import pandas as pd\n",
    "from datetime import date\n",
    "from dateutil.rrule import rrule, DAILY\n",
    "import pprint as pp"
   ]
  },
  {
   "cell_type": "code",
   "execution_count": 4,
   "metadata": {},
   "outputs": [],
   "source": [
    "#creates list of dates between starting_date and ending_date, inclusive\n",
    "def find_dates(start_date, end_date):\n",
    "    list_of_days = []\n",
    "    daterange = pd.date_range(start_date, end_date)\n",
    "    for single_date in daterange:\n",
    "        list_of_days.append(single_date.strftime(\"%Y-%m-%d\"))\n",
    "    \n",
    "    return list_of_days\n",
    "#build RA url from date, country, and region\n",
    "def build_url(date, country, region):\n",
    "    host = 'https://www.residentadvisor.net/events/'\n",
    "    url_country = country\n",
    "    url_region = region\n",
    "    url_date = date\n",
    "    return f\"{host}{url_country}/{url_region}/day/{url_date}\""
   ]
  },
  {
   "cell_type": "code",
   "execution_count": 5,
   "metadata": {},
   "outputs": [
    {
     "name": "stdout",
     "output_type": "stream",
     "text": [
      "{'2019-03-22': ['Avant Gardner',\n",
      "                'TBA - Brooklyn',\n",
      "                'Knockdown Center',\n",
      "                'Analog Bkny',\n",
      "                'Elsewhere',\n",
      "                '99 Scott Ave',\n",
      "                'Nowadays',\n",
      "                'Good Room',\n",
      "                'TBA - Brooklyn',\n",
      "                'TBA - New York',\n",
      "                'Rose Gold',\n",
      "                'Schimanski',\n",
      "                'Eris',\n",
      "                'Elsewhere',\n",
      "                'TBA Brooklyn',\n",
      "                'Hart bar',\n",
      "                'Polygon BK',\n",
      "                'House Of Yes',\n",
      "                'Bossa Nova Civic Club',\n",
      "                'Jupiter Disco',\n",
      "                'Le Bain',\n",
      "                'Nublu',\n",
      "                'Ceremony',\n",
      "                'Black Flamingo',\n",
      "                'Le Poisson Rouge',\n",
      "                'The Deep End',\n",
      "                'The Spirit Room, Buffalo/Rochester',\n",
      "                'Ms. Yoo',\n",
      "                'TBA - New York',\n",
      "                'Ignight'],\n",
      " '2019-03-23': ['Avant Gardner',\n",
      "                '99 Scott Ave',\n",
      "                'Good Room',\n",
      "                'TBA - New York',\n",
      "                'Market Hotel',\n",
      "                'Nowadays',\n",
      "                'TBA - Brooklyn',\n",
      "                'Kings Hall - Avant Gardner',\n",
      "                'Knockdown Center',\n",
      "                'House Of Yes',\n",
      "                'Elsewhere',\n",
      "                'Magick City',\n",
      "                'Elsewhere',\n",
      "                'TBA - New York',\n",
      "                'TBA Brooklyn',\n",
      "                'Polygon BK',\n",
      "                'Rose Gold',\n",
      "                'Polygon BK',\n",
      "                'Bossa Nova Civic Club',\n",
      "                'Le Bain',\n",
      "                'Forest City Lodge 180',\n",
      "                'Keybar',\n",
      "                'Black Flamingo',\n",
      "                'MoMA PS1',\n",
      "                'Firehouse Engine Company 31',\n",
      "                'Mood Ring',\n",
      "                \"John's House of Music\",\n",
      "                'The Bowery Electric',\n",
      "                'Hudson St',\n",
      "                'Silver Factory',\n",
      "                'Eris'],\n",
      " '2019-03-24': ['Nowadays',\n",
      "                'Good Room',\n",
      "                'Magick City',\n",
      "                'Polygon BK',\n",
      "                'Freehold Brooklyn',\n",
      "                'Bossa Nova Civic Club',\n",
      "                'Jupiter Disco',\n",
      "                'Le Bain',\n",
      "                'Le Bain',\n",
      "                'TBA Brooklyn',\n",
      "                'Doux Supper Club',\n",
      "                \"Baby's All Right\",\n",
      "                'Chelsea Music Hall'],\n",
      " '2019-03-25': ['Bossa Nova Civic Club'],\n",
      " '2019-03-26': ['Trans Pecos',\n",
      "                'TBA Brooklyn',\n",
      "                'Le Poisson Rouge',\n",
      "                'Rumpus Room'],\n",
      " '2019-03-27': ['Elsewhere',\n",
      "                'Public Arts',\n",
      "                'Good Room',\n",
      "                'Le Poisson Rouge',\n",
      "                'Elsewhere',\n",
      "                'Bossa Nova Civic Club',\n",
      "                'Friends & Lovers'],\n",
      " '2019-03-28': ['Good Room',\n",
      "                'public records',\n",
      "                'Nowadays',\n",
      "                'Black Flamingo',\n",
      "                '1 Oak',\n",
      "                'Bossa Nova Civic Club',\n",
      "                'Zürcher Gallery',\n",
      "                'Elsewhere',\n",
      "                '101bklyn',\n",
      "                'H0L0',\n",
      "                '101bklyn',\n",
      "                'H0L0',\n",
      "                'TBA Brooklyn',\n",
      "                'Brooklyn Bazaar',\n",
      "                'Jupiter Disco',\n",
      "                'The Delancey'],\n",
      " '2019-03-29': ['Elsewhere',\n",
      "                'Good Room',\n",
      "                'Nowadays',\n",
      "                'House Of Yes',\n",
      "                'The Paper Box',\n",
      "                'public records',\n",
      "                'TBA - New York',\n",
      "                'H0L0',\n",
      "                'The Library At The Williamsburg Hotel',\n",
      "                'Polygon BK',\n",
      "                'Rose Gold',\n",
      "                'Elsewhere',\n",
      "                'Bossa Nova Civic Club',\n",
      "                'TBA Brooklyn',\n",
      "                'Jupiter Disco',\n",
      "                'Le Bain',\n",
      "                'Kings Hall - Avant Gardner',\n",
      "                'SOBs',\n",
      "                'Black Flamingo']}\n"
     ]
    }
   ],
   "source": [
    "#function to find venues with event in a given country & region for a given date\n",
    "def find_nightly_venues(date, country, region):\n",
    "    #calls url function and parses results into Beautiful Soup\n",
    "    r = requests.get(build_url(date, country, region))\n",
    "    c = r.content\n",
    "    soup = BeautifulSoup(c, 'html.parser')\n",
    "    \n",
    "    #isolate HTML with event data\n",
    "    events = soup.find_all('article', class_='event-item')\n",
    "    \n",
    "    #container for venues with events on a given night\n",
    "    nightly_venues = []\n",
    "    \n",
    "    #loop through events to find element containing venue name\n",
    "    for event in events:\n",
    "        all_span = event.find_all('span')\n",
    "        for item in all_span:\n",
    "            if 'at' in item.get_text():\n",
    "                #append event to container after splitting and stripping\n",
    "                nightly_venues.append((item.get_text().split('at')[1].strip()))\n",
    "            \n",
    "    return nightly_venues\n",
    "\n",
    "\"\"\"Function that loops through a list of dates, passing each date into the\n",
    "find_nightly_venues function, and creates dictionary from return values\"\"\"\n",
    "def find_venues(start_date, end_date, country, region):\n",
    "    final_dict = {}\n",
    "    list_of_dates = find_dates(start_date, end_date)\n",
    "    for date in list_of_dates:\n",
    "        final_dict[date] = find_nightly_venues(date, country, region)\n",
    "    return final_dict\n",
    "\n",
    "pp.pprint(find_venues(starting_date, ending_date, 'us', 'newyork'))"
   ]
  },
  {
   "cell_type": "markdown",
   "metadata": {},
   "source": [
    "### Question 2 - Write a function to which returns the events this week given region and country."
   ]
  },
  {
   "cell_type": "code",
   "execution_count": 6,
   "metadata": {},
   "outputs": [
    {
     "name": "stdout",
     "output_type": "stream",
     "text": [
      "{'2019-03-22': ['We Are Monsters: Marie Davidson Live at The Stud',\n",
      "                'DTE with Erika, Deraout, House of Velocity & Tariq at F8 1192 '\n",
      "                'Folsom',\n",
      "                'Huerco S. & DJ Python - Brouhaha x Public Works at Public '\n",
      "                'Works',\n",
      "                'Mark Farina 50th Birthday at The Great Northern',\n",
      "                'Maayan Nidam Hosted by Chvck at Phonobar',\n",
      "                'A Special Evening with Herodot (Sunrise, Romania) at TBA - '\n",
      "                'San Francisco',\n",
      "                'Riva Starr (Dirtybird / Defected / Snatch!) at TBA - San '\n",
      "                'Francisco',\n",
      "                'Fleetmac Wood presents Rumours Rave - Santa Cruz at The '\n",
      "                'Catalyst',\n",
      "                'PROX.IM.I.TY: Jordan Poling, Brendan Finlayson, Victor Vega '\n",
      "                'at Underground SF',\n",
      "                'Foals DJ Set at Halcyon',\n",
      "                'Carl Cox, Joseph Capriati & Pleasurekraft at The Midway',\n",
      "                'Supervixen Late Nite Sessions at TBA - San Francisco',\n",
      "                'Algorithmic Art Assembly at Gray Area Foundation For The Arts',\n",
      "                'GCODE feat. NEY & Miss MAK, AVN at Monarch',\n",
      "                'Fraktured SF presents: March Madness at The Cosmo Bar & '\n",
      "                'Lounge',\n",
      "                '4th Fridays w DJ Z-Mo at John Colins',\n",
      "                'Back & 4th SF Every 4th Friday at Wish'],\n",
      " '2019-03-23': ['Andhim & Powel at Public Works at Public Works',\n",
      "                'Dosem (Anjunadeep/Bedrock/Suara) & Matt Lange '\n",
      "                '(Anjunadeep/Mau5trap) at Monarch',\n",
      "                'House of Bass/Space with Britton at Public Works Oddjob Loft',\n",
      "                'Moulton Music presents Louie Vega at Halcyon',\n",
      "                'Foals DJ Set at Halcyon',\n",
      "                'Relativity: A Test Of Time & Friends at Wish',\n",
      "                'MNML:FUN with Pablo Sánchez and Kuze at Underground SF',\n",
      "                'Zepherin Saint - The People Oakland at The New Parish',\n",
      "                'Tfsf 9 Year Anniversary with Ferry Corsten [Extended Set] & '\n",
      "                'More at The Midway',\n",
      "                'Inside Out presents: The Patio Party at The EndUp',\n",
      "                'Angelz with Freak On at 251 Club',\n",
      "                'Angelz with Freak On at 251 Club',\n",
      "                'M.A.N.D.Y. Ben Böhmer at Audio SF'],\n",
      " '2019-03-24': ['WERD. presents Road to Dusk at Monarch',\n",
      "                \"Doorly's Reptile Dysfunction & Worthy (Dirtybird) Day Party \"\n",
      "                'at The Midway',\n",
      "                'Foals DJ Set at Halcyon',\n",
      "                \"Doorly (Dirtybird) presents 'Reptile Dysfunction' A Day Party \"\n",
      "                'at The Midway',\n",
      "                'After Dawn: Master Kev, Patrick Wilson & Ivan Ruiz at Monroe'],\n",
      " '2019-03-25': ['Foals DJ Set at Halcyon'],\n",
      " '2019-03-26': [],\n",
      " '2019-03-27': ['Housepitality: Ash Lauryn, Experimental Housewife, Don Crisp '\n",
      "                'at F8 1192 Folsom',\n",
      "                'Get with it Wednesdays by the Program at Brix 581'],\n",
      " '2019-03-28': ['Joris Voorn at Halcyon',\n",
      "                'El Muerte: Middle (of) Eastern Electronics at Public Works',\n",
      "                'Konstruct with Dani Lehman (Dirty Epic), Alex Xipil, & '\n",
      "                'Rubidium at Underground SF',\n",
      "                'Substance with Sandy Rivera at The EndUp'],\n",
      " '2019-03-29': ['Robot Ears: Jamaica Suk (Gradient, Pornceptual // SF) at F8 '\n",
      "                '1192 Folsom',\n",
      "                'Juliet FOX (Drumcode) and Shelley Johannson (Octopus/Bedrock) '\n",
      "                'at The Great Northern',\n",
      "                'Defected presents- Lo Steppa, Sam Devine and Ferreck Dawn at '\n",
      "                'Halcyon',\n",
      "                'Traumer in The Loft at Public Works',\n",
      "                'As You Like It Spring Family Night 03.29.19 at Underground SF',\n",
      "                'Dominic M presents Techno Bunker at Temple',\n",
      "                'Symbion Project Live at Clock Factory (Berkeley CA) at The '\n",
      "                'Clock Factory',\n",
      "                'Dope Beats & Hard Drinks at John Colins']}\n"
     ]
    }
   ],
   "source": [
    "#function to find events in a given country & region for a given date\n",
    "def find_nightly_events(date, country, region):\n",
    "    #pull correct url\n",
    "    r = requests.get(build_url(date, country, region))\n",
    "    c = r.content\n",
    "    soup = BeautifulSoup(c, 'html.parser')\n",
    "    \n",
    "    #isolate HTML with event data\n",
    "    events = soup.find_all('article', class_='event-item')\n",
    "    \n",
    "    nightly_events = []\n",
    "    \n",
    "    #loop through events to find element containing venue name\n",
    "    for event in events:\n",
    "        all_h1 = event.find_all('h1')\n",
    "        for item in all_h1:\n",
    "            nightly_events.append(item.get_text())\n",
    "            \n",
    "    return nightly_events\n",
    "\n",
    "\"\"\"Function that loops through a list of dates, passing each date into the\n",
    "find_nightly_events function, and creates dictionary from return values\"\"\"\n",
    "def find_events(start_date, end_date, country, region):\n",
    "    final_dict = {}\n",
    "    list_of_dates = find_dates(start_date, end_date)\n",
    "    for date in list_of_dates:\n",
    "        final_dict[date] = find_nightly_events(date, country, region)\n",
    "    return final_dict\n",
    "\n",
    "pp.pprint(find_events(starting_date, ending_date, 'us', 'sanfrancisco'))"
   ]
  },
  {
   "cell_type": "code",
   "execution_count": 4,
   "metadata": {},
   "outputs": [
    {
     "data": {
      "text/plain": [
       "['Housepitality:Della, Homero Espinosa, Jason Peters at F8 1192 Folsom',\n",
       " 'http://residentadvisor.net/events/1173172',\n",
       " ['Della', 'Homero Espinosa', 'Jason Peters']]"
      ]
     },
     "execution_count": 4,
     "metadata": {},
     "output_type": "execute_result"
    }
   ],
   "source": [
    "# you should be able to output something like this\n",
    "find_events('us','sanfrancisco')[0]x"
   ]
  },
  {
   "cell_type": "code",
   "execution_count": null,
   "metadata": {},
   "outputs": [],
   "source": []
  },
  {
   "cell_type": "markdown",
   "metadata": {},
   "source": [
    "### Question 3 - Create a function which returns the numbers of users attending each event this week, given country and region.  Then plot a histogram."
   ]
  },
  {
   "cell_type": "code",
   "execution_count": 8,
   "metadata": {},
   "outputs": [],
   "source": [
    "def users_attending(country, region):\n",
    "\n",
    "    \n",
    "    \n",
    "    \n",
    "    \n",
    "    "
   ]
  },
  {
   "cell_type": "code",
   "execution_count": 11,
   "metadata": {},
   "outputs": [
    {
     "data": {
      "text/plain": [
       "[8, 5, 4, 3, 49, 18, 10, 3, 2, 11]"
      ]
     },
     "execution_count": 11,
     "metadata": {},
     "output_type": "execute_result"
    }
   ],
   "source": [
    "# you should be able to output something like this\n",
    "users_attending('us','newyork')[:10]"
   ]
  },
  {
   "cell_type": "code",
   "execution_count": null,
   "metadata": {},
   "outputs": [],
   "source": [
    "#now use the function to make a histogram\n",
    "\n"
   ]
  },
  {
   "cell_type": "markdown",
   "metadata": {},
   "source": [
    "### Question 4 - Put the data for all concerts in the US and UK into Pandas dataframes.\n",
    "Think about what columns to include - concert titles, region, venues, URLs, dates, etc. You'll want to have a dataframe per country.\n",
    "\n",
    "Also think about how to deal with inconsistent/NaN values."
   ]
  },
  {
   "cell_type": "code",
   "execution_count": 1,
   "metadata": {},
   "outputs": [],
   "source": [
    "import pandas as pd"
   ]
  },
  {
   "cell_type": "code",
   "execution_count": null,
   "metadata": {},
   "outputs": [],
   "source": []
  },
  {
   "cell_type": "code",
   "execution_count": null,
   "metadata": {},
   "outputs": [],
   "source": []
  },
  {
   "cell_type": "markdown",
   "metadata": {},
   "source": [
    "### Question 5 (Bonus) - Compare the concert scenes of the two countries and find:\n",
    "1. The difference in the number of concert-hosting venues per country\n",
    "2. The number of concerts happening THIS SATURDAY in each country\n",
    "3. Are there any artists playing in both countries?"
   ]
  },
  {
   "cell_type": "code",
   "execution_count": null,
   "metadata": {},
   "outputs": [],
   "source": []
  }
 ],
 "metadata": {
  "kernelspec": {
   "display_name": "Python 3",
   "language": "python",
   "name": "python3"
  },
  "language_info": {
   "codemirror_mode": {
    "name": "ipython",
    "version": 3
   },
   "file_extension": ".py",
   "mimetype": "text/x-python",
   "name": "python",
   "nbconvert_exporter": "python",
   "pygments_lexer": "ipython3",
   "version": "3.7.2"
  }
 },
 "nbformat": 4,
 "nbformat_minor": 2
}
